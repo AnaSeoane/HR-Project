{
 "cells": [
  {
   "cell_type": "markdown",
   "metadata": {},
   "source": [
    "### Opening and creating different tables"
   ]
  },
  {
   "cell_type": "code",
   "execution_count": 1,
   "metadata": {},
   "outputs": [],
   "source": [
    "import pandas as pd\n",
    "import numpy as np\n",
    "import os\n",
    "import warnings\n",
    "warnings.filterwarnings('ignore')"
   ]
  },
  {
   "cell_type": "code",
   "execution_count": 2,
   "metadata": {},
   "outputs": [
    {
     "data": {
      "text/html": [
       "<div>\n",
       "<style scoped>\n",
       "    .dataframe tbody tr th:only-of-type {\n",
       "        vertical-align: middle;\n",
       "    }\n",
       "\n",
       "    .dataframe tbody tr th {\n",
       "        vertical-align: top;\n",
       "    }\n",
       "\n",
       "    .dataframe thead th {\n",
       "        text-align: right;\n",
       "    }\n",
       "</style>\n",
       "<table border=\"1\" class=\"dataframe\">\n",
       "  <thead>\n",
       "    <tr style=\"text-align: right;\">\n",
       "      <th></th>\n",
       "      <th>Employee_Name</th>\n",
       "      <th>EmpID</th>\n",
       "      <th>Married</th>\n",
       "      <th>MaritalStatusID</th>\n",
       "      <th>GenderID</th>\n",
       "      <th>EmpStatusID</th>\n",
       "      <th>DeptID</th>\n",
       "      <th>PerfScoreID</th>\n",
       "      <th>FromDiversityJobFairID</th>\n",
       "      <th>Salary</th>\n",
       "      <th>Term</th>\n",
       "      <th>PositionID</th>\n",
       "      <th>Position</th>\n",
       "      <th>State</th>\n",
       "      <th>Zip</th>\n",
       "      <th>DOB</th>\n",
       "      <th>Sex</th>\n",
       "      <th>MaritalDesc</th>\n",
       "      <th>CitizenDesc</th>\n",
       "      <th>HispanicLatino</th>\n",
       "      <th>RaceDesc</th>\n",
       "      <th>DateofHire</th>\n",
       "      <th>DateofTermination</th>\n",
       "      <th>TermReason</th>\n",
       "      <th>EmploymentStatus</th>\n",
       "      <th>Department</th>\n",
       "      <th>ManagerName</th>\n",
       "      <th>ManagerID</th>\n",
       "      <th>RecruitmentSource</th>\n",
       "      <th>PerformanceScore</th>\n",
       "      <th>EngagementSurvey</th>\n",
       "      <th>EmpSatisfaction</th>\n",
       "      <th>SpecialProjectsCount</th>\n",
       "      <th>LastPerformanceReview_Date</th>\n",
       "      <th>DaysLateLast30</th>\n",
       "      <th>Absences</th>\n",
       "    </tr>\n",
       "  </thead>\n",
       "  <tbody>\n",
       "    <tr>\n",
       "      <th>0</th>\n",
       "      <td>Adinolfi, Wilson  K</td>\n",
       "      <td>10026</td>\n",
       "      <td>No</td>\n",
       "      <td>0</td>\n",
       "      <td>1</td>\n",
       "      <td>1</td>\n",
       "      <td>5</td>\n",
       "      <td>4</td>\n",
       "      <td>No</td>\n",
       "      <td>62506</td>\n",
       "      <td>No</td>\n",
       "      <td>19</td>\n",
       "      <td>Production Technician I</td>\n",
       "      <td>MA</td>\n",
       "      <td>1960</td>\n",
       "      <td>1983-07-10</td>\n",
       "      <td>M</td>\n",
       "      <td>Single</td>\n",
       "      <td>US Citizen</td>\n",
       "      <td>No</td>\n",
       "      <td>White</td>\n",
       "      <td>2011-07-05</td>\n",
       "      <td>NaN</td>\n",
       "      <td>N/A-StillEmployed</td>\n",
       "      <td>Active</td>\n",
       "      <td>Production</td>\n",
       "      <td>Michael Albert</td>\n",
       "      <td>22</td>\n",
       "      <td>LinkedIn</td>\n",
       "      <td>Exceeds</td>\n",
       "      <td>4.60</td>\n",
       "      <td>5</td>\n",
       "      <td>0</td>\n",
       "      <td>2019-01-17</td>\n",
       "      <td>0</td>\n",
       "      <td>1</td>\n",
       "    </tr>\n",
       "    <tr>\n",
       "      <th>1</th>\n",
       "      <td>Ait Sidi, Karthikeyan</td>\n",
       "      <td>10084</td>\n",
       "      <td>Yes</td>\n",
       "      <td>1</td>\n",
       "      <td>1</td>\n",
       "      <td>5</td>\n",
       "      <td>3</td>\n",
       "      <td>3</td>\n",
       "      <td>No</td>\n",
       "      <td>104437</td>\n",
       "      <td>Yes</td>\n",
       "      <td>27</td>\n",
       "      <td>Sr. DBA</td>\n",
       "      <td>MA</td>\n",
       "      <td>2148</td>\n",
       "      <td>1975-05-05</td>\n",
       "      <td>M</td>\n",
       "      <td>Married</td>\n",
       "      <td>US Citizen</td>\n",
       "      <td>No</td>\n",
       "      <td>White</td>\n",
       "      <td>2015-03-30</td>\n",
       "      <td>2016-06-16</td>\n",
       "      <td>career change</td>\n",
       "      <td>Voluntarily Terminated</td>\n",
       "      <td>IT/IS</td>\n",
       "      <td>Simon Roup</td>\n",
       "      <td>4</td>\n",
       "      <td>Indeed</td>\n",
       "      <td>Fully Meets</td>\n",
       "      <td>4.96</td>\n",
       "      <td>3</td>\n",
       "      <td>6</td>\n",
       "      <td>2016-02-24</td>\n",
       "      <td>0</td>\n",
       "      <td>17</td>\n",
       "    </tr>\n",
       "  </tbody>\n",
       "</table>\n",
       "</div>"
      ],
      "text/plain": [
       "              Employee_Name  EmpID Married  MaritalStatusID  GenderID  \\\n",
       "0       Adinolfi, Wilson  K  10026      No                0         1   \n",
       "1  Ait Sidi, Karthikeyan     10084     Yes                1         1   \n",
       "\n",
       "   EmpStatusID  DeptID  PerfScoreID FromDiversityJobFairID  Salary Term  \\\n",
       "0            1       5            4                     No   62506   No   \n",
       "1            5       3            3                     No  104437  Yes   \n",
       "\n",
       "   PositionID                 Position State   Zip         DOB Sex  \\\n",
       "0          19  Production Technician I    MA  1960  1983-07-10  M    \n",
       "1          27                  Sr. DBA    MA  2148  1975-05-05  M    \n",
       "\n",
       "  MaritalDesc CitizenDesc HispanicLatino RaceDesc  DateofHire  \\\n",
       "0      Single  US Citizen             No    White  2011-07-05   \n",
       "1     Married  US Citizen             No    White  2015-03-30   \n",
       "\n",
       "  DateofTermination         TermReason        EmploymentStatus  \\\n",
       "0               NaN  N/A-StillEmployed                  Active   \n",
       "1        2016-06-16      career change  Voluntarily Terminated   \n",
       "\n",
       "          Department     ManagerName  ManagerID RecruitmentSource  \\\n",
       "0  Production         Michael Albert         22          LinkedIn   \n",
       "1              IT/IS      Simon Roup          4            Indeed   \n",
       "\n",
       "  PerformanceScore  EngagementSurvey  EmpSatisfaction  SpecialProjectsCount  \\\n",
       "0          Exceeds              4.60                5                     0   \n",
       "1      Fully Meets              4.96                3                     6   \n",
       "\n",
       "  LastPerformanceReview_Date  DaysLateLast30  Absences  \n",
       "0                 2019-01-17               0         1  \n",
       "1                 2016-02-24               0        17  "
      ]
     },
     "execution_count": 2,
     "metadata": {},
     "output_type": "execute_result"
    }
   ],
   "source": [
    "hr_dataset = pd.read_csv('data/HR_dataset/HR_Dataset_clean.csv', index_col=0)\n",
    "pd.options.display.max_columns = None\n",
    "hr_dataset.head(2)"
   ]
  },
  {
   "cell_type": "markdown",
   "metadata": {},
   "source": [
    "Splitting information:\n",
    "- Creating working profile\n",
    "- Creating personal profile table\n",
    "- Creating recruitment table\n",
    "- Creating performance table\n",
    "- Creating engagement table\n",
    "- Creating absenteeism table\n",
    "- Creating attrition table\n",
    "- Creating department table\n",
    "- Creating position table\n",
    "- Creating manager table\n",
    "- Creating marital_status table\n",
    "- Creating gender table"
   ]
  },
  {
   "cell_type": "code",
   "execution_count": 3,
   "metadata": {},
   "outputs": [
    {
     "data": {
      "text/plain": [
       "Index(['Employee_Name', 'EmpID', 'Married', 'MaritalStatusID', 'GenderID',\n",
       "       'EmpStatusID', 'DeptID', 'PerfScoreID', 'FromDiversityJobFairID',\n",
       "       'Salary', 'Term', 'PositionID', 'Position', 'State', 'Zip', 'DOB',\n",
       "       'Sex', 'MaritalDesc', 'CitizenDesc', 'HispanicLatino', 'RaceDesc',\n",
       "       'DateofHire', 'DateofTermination', 'TermReason', 'EmploymentStatus',\n",
       "       'Department', 'ManagerName', 'ManagerID', 'RecruitmentSource',\n",
       "       'PerformanceScore', 'EngagementSurvey', 'EmpSatisfaction',\n",
       "       'SpecialProjectsCount', 'LastPerformanceReview_Date', 'DaysLateLast30',\n",
       "       'Absences'],\n",
       "      dtype='object')"
      ]
     },
     "execution_count": 3,
     "metadata": {},
     "output_type": "execute_result"
    }
   ],
   "source": [
    "hr_dataset.columns"
   ]
  },
  {
   "cell_type": "code",
   "execution_count": 4,
   "metadata": {},
   "outputs": [],
   "source": [
    "# Creating a dictionaire with the table names as keys and the columns of the original dataframe as values:\n",
    "col_table = {'working_profile': ['EmpID', 'Term', 'EmploymentStatus', 'DateofHire', 'DateofTermination', 'Salary', 'Department', 'Position', 'ManagerID', 'SpecialProjectsCount'],\n",
    "            'personal_profile': ['EmpID', 'Employee_Name', 'DOB', 'MaritalStatusID','GenderID', 'FromDiversityJobFairID', 'CitizenDesc', 'RaceDesc', 'HispanicLatino', 'State', 'Zip'],\n",
    "            'recruitment': ['EmpID', 'RecruitmentSource'],\n",
    "            'performance_employee': ['EmpID', 'LastPerformanceReview_Date', 'PerformanceScore'],\n",
    "            'engagement': ['EmpID', 'EngagementSurvey', 'EmpSatisfaction'],\n",
    "            'absenteeism': ['EmpID', 'DaysLateLast30', 'Absences'],\n",
    "            'attrition': ['EmpID', 'EmploymentStatus', 'DateofTermination', 'TermReason'],\n",
    "            'manager': ['ManagerID', 'ManagerName'],\n",
    "            'marital_status': ['MaritalStatusID', 'MaritalDesc', 'Married'],\n",
    "            'gender': ['GenderID', 'Sex']}"
   ]
  },
  {
   "cell_type": "code",
   "execution_count": 5,
   "metadata": {},
   "outputs": [],
   "source": [
    "# creating a csv for each table of the dictionaire:\n",
    "base_directory = 'data/HR_dataset/'\n",
    "os.makedirs(base_directory, exist_ok= True)\n",
    "dataframes_dict = {}\n",
    "\n",
    "for table_name, columns in col_table.items():\n",
    "    dataframe = hr_dataset[columns]\n",
    "    dataframes_dict[table_name] = hr_dataset[columns]\n",
    "    output_path = os.path.join(base_directory, f\"{table_name}.csv\")\n",
    "    dataframe.to_csv(output_path, index=False)\n",
    "\n",
    "for table_name, dataframe in dataframes_dict.items():\n",
    "    globals()[table_name] = dataframe"
   ]
  },
  {
   "cell_type": "markdown",
   "metadata": {},
   "source": [
    "___\n",
    "Cleaning the new global tables:"
   ]
  },
  {
   "cell_type": "code",
   "execution_count": 6,
   "metadata": {},
   "outputs": [
    {
     "data": {
      "text/html": [
       "<div>\n",
       "<style scoped>\n",
       "    .dataframe tbody tr th:only-of-type {\n",
       "        vertical-align: middle;\n",
       "    }\n",
       "\n",
       "    .dataframe tbody tr th {\n",
       "        vertical-align: top;\n",
       "    }\n",
       "\n",
       "    .dataframe thead th {\n",
       "        text-align: right;\n",
       "    }\n",
       "</style>\n",
       "<table border=\"1\" class=\"dataframe\">\n",
       "  <thead>\n",
       "    <tr style=\"text-align: right;\">\n",
       "      <th></th>\n",
       "      <th>ManagerID</th>\n",
       "      <th>ManagerName</th>\n",
       "    </tr>\n",
       "  </thead>\n",
       "  <tbody>\n",
       "    <tr>\n",
       "      <th>29</th>\n",
       "      <td>1</td>\n",
       "      <td>Brandon R. LeBlanc</td>\n",
       "    </tr>\n",
       "    <tr>\n",
       "      <th>27</th>\n",
       "      <td>2</td>\n",
       "      <td>Janet King</td>\n",
       "    </tr>\n",
       "    <tr>\n",
       "      <th>26</th>\n",
       "      <td>3</td>\n",
       "      <td>Brandon R. LeBlanc</td>\n",
       "    </tr>\n",
       "    <tr>\n",
       "      <th>1</th>\n",
       "      <td>4</td>\n",
       "      <td>Simon Roup</td>\n",
       "    </tr>\n",
       "    <tr>\n",
       "      <th>35</th>\n",
       "      <td>5</td>\n",
       "      <td>Jennifer Zamora</td>\n",
       "    </tr>\n",
       "    <tr>\n",
       "      <th>48</th>\n",
       "      <td>6</td>\n",
       "      <td>Eric Dougall</td>\n",
       "    </tr>\n",
       "    <tr>\n",
       "      <th>9</th>\n",
       "      <td>7</td>\n",
       "      <td>Peter Monroe</td>\n",
       "    </tr>\n",
       "    <tr>\n",
       "      <th>97</th>\n",
       "      <td>9</td>\n",
       "      <td>Board of Directors</td>\n",
       "    </tr>\n",
       "    <tr>\n",
       "      <th>6</th>\n",
       "      <td>10</td>\n",
       "      <td>Alex Sweetwater</td>\n",
       "    </tr>\n",
       "    <tr>\n",
       "      <th>5</th>\n",
       "      <td>11</td>\n",
       "      <td>Amy Dunn</td>\n",
       "    </tr>\n",
       "    <tr>\n",
       "      <th>8</th>\n",
       "      <td>12</td>\n",
       "      <td>Brannon Miller</td>\n",
       "    </tr>\n",
       "    <tr>\n",
       "      <th>70</th>\n",
       "      <td>13</td>\n",
       "      <td>Brian Champaigne</td>\n",
       "    </tr>\n",
       "    <tr>\n",
       "      <th>10</th>\n",
       "      <td>14</td>\n",
       "      <td>David Stanley</td>\n",
       "    </tr>\n",
       "    <tr>\n",
       "      <th>60</th>\n",
       "      <td>15</td>\n",
       "      <td>Debra Houlihan</td>\n",
       "    </tr>\n",
       "    <tr>\n",
       "      <th>3</th>\n",
       "      <td>16</td>\n",
       "      <td>Elijiah Gray</td>\n",
       "    </tr>\n",
       "    <tr>\n",
       "      <th>32</th>\n",
       "      <td>17</td>\n",
       "      <td>John Smith</td>\n",
       "    </tr>\n",
       "    <tr>\n",
       "      <th>13</th>\n",
       "      <td>18</td>\n",
       "      <td>Kelley Spirea</td>\n",
       "    </tr>\n",
       "    <tr>\n",
       "      <th>7</th>\n",
       "      <td>19</td>\n",
       "      <td>Ketsia Liebig</td>\n",
       "    </tr>\n",
       "    <tr>\n",
       "      <th>2</th>\n",
       "      <td>20</td>\n",
       "      <td>Kissy Sullivan</td>\n",
       "    </tr>\n",
       "    <tr>\n",
       "      <th>45</th>\n",
       "      <td>21</td>\n",
       "      <td>Lynn Daneault</td>\n",
       "    </tr>\n",
       "    <tr>\n",
       "      <th>0</th>\n",
       "      <td>22</td>\n",
       "      <td>Michael Albert</td>\n",
       "    </tr>\n",
       "    <tr>\n",
       "      <th>129</th>\n",
       "      <td>30</td>\n",
       "      <td>Michael Albert</td>\n",
       "    </tr>\n",
       "    <tr>\n",
       "      <th>4</th>\n",
       "      <td>39</td>\n",
       "      <td>Webster Butler</td>\n",
       "    </tr>\n",
       "  </tbody>\n",
       "</table>\n",
       "</div>"
      ],
      "text/plain": [
       "     ManagerID         ManagerName\n",
       "29           1  Brandon R. LeBlanc\n",
       "27           2          Janet King\n",
       "26           3  Brandon R. LeBlanc\n",
       "1            4          Simon Roup\n",
       "35           5     Jennifer Zamora\n",
       "48           6        Eric Dougall\n",
       "9            7        Peter Monroe\n",
       "97           9  Board of Directors\n",
       "6           10     Alex Sweetwater\n",
       "5           11            Amy Dunn\n",
       "8           12      Brannon Miller\n",
       "70          13    Brian Champaigne\n",
       "10          14       David Stanley\n",
       "60          15      Debra Houlihan\n",
       "3           16        Elijiah Gray\n",
       "32          17          John Smith\n",
       "13          18       Kelley Spirea\n",
       "7           19       Ketsia Liebig\n",
       "2           20      Kissy Sullivan\n",
       "45          21       Lynn Daneault\n",
       "0           22      Michael Albert\n",
       "129         30      Michael Albert\n",
       "4           39      Webster Butler"
      ]
     },
     "execution_count": 6,
     "metadata": {},
     "output_type": "execute_result"
    }
   ],
   "source": [
    "manager.drop_duplicates(inplace= True)\n",
    "manager.sort_values('ManagerID')"
   ]
  },
  {
   "cell_type": "code",
   "execution_count": 7,
   "metadata": {},
   "outputs": [],
   "source": [
    "manager.to_csv('data/HR_dataset/manager.csv', index=False)"
   ]
  },
  {
   "cell_type": "code",
   "execution_count": 8,
   "metadata": {},
   "outputs": [
    {
     "data": {
      "text/html": [
       "<div>\n",
       "<style scoped>\n",
       "    .dataframe tbody tr th:only-of-type {\n",
       "        vertical-align: middle;\n",
       "    }\n",
       "\n",
       "    .dataframe tbody tr th {\n",
       "        vertical-align: top;\n",
       "    }\n",
       "\n",
       "    .dataframe thead th {\n",
       "        text-align: right;\n",
       "    }\n",
       "</style>\n",
       "<table border=\"1\" class=\"dataframe\">\n",
       "  <thead>\n",
       "    <tr style=\"text-align: right;\">\n",
       "      <th></th>\n",
       "      <th>GenderID</th>\n",
       "      <th>Sex</th>\n",
       "    </tr>\n",
       "  </thead>\n",
       "  <tbody>\n",
       "    <tr>\n",
       "      <th>2</th>\n",
       "      <td>0</td>\n",
       "      <td>F</td>\n",
       "    </tr>\n",
       "    <tr>\n",
       "      <th>0</th>\n",
       "      <td>1</td>\n",
       "      <td>M</td>\n",
       "    </tr>\n",
       "  </tbody>\n",
       "</table>\n",
       "</div>"
      ],
      "text/plain": [
       "   GenderID Sex\n",
       "2         0   F\n",
       "0         1  M "
      ]
     },
     "execution_count": 8,
     "metadata": {},
     "output_type": "execute_result"
    }
   ],
   "source": [
    "gender.drop_duplicates(inplace= True)\n",
    "gender.sort_values('GenderID')"
   ]
  },
  {
   "cell_type": "code",
   "execution_count": 9,
   "metadata": {},
   "outputs": [],
   "source": [
    "gender.to_csv('data/HR_dataset/gender.csv', index=False)"
   ]
  },
  {
   "cell_type": "code",
   "execution_count": 10,
   "metadata": {},
   "outputs": [
    {
     "data": {
      "text/html": [
       "<div>\n",
       "<style scoped>\n",
       "    .dataframe tbody tr th:only-of-type {\n",
       "        vertical-align: middle;\n",
       "    }\n",
       "\n",
       "    .dataframe tbody tr th {\n",
       "        vertical-align: top;\n",
       "    }\n",
       "\n",
       "    .dataframe thead th {\n",
       "        text-align: right;\n",
       "    }\n",
       "</style>\n",
       "<table border=\"1\" class=\"dataframe\">\n",
       "  <thead>\n",
       "    <tr style=\"text-align: right;\">\n",
       "      <th></th>\n",
       "      <th>MaritalStatusID</th>\n",
       "      <th>MaritalDesc</th>\n",
       "      <th>Married</th>\n",
       "    </tr>\n",
       "  </thead>\n",
       "  <tbody>\n",
       "    <tr>\n",
       "      <th>0</th>\n",
       "      <td>0</td>\n",
       "      <td>Single</td>\n",
       "      <td>No</td>\n",
       "    </tr>\n",
       "    <tr>\n",
       "      <th>1</th>\n",
       "      <td>1</td>\n",
       "      <td>Married</td>\n",
       "      <td>Yes</td>\n",
       "    </tr>\n",
       "    <tr>\n",
       "      <th>4</th>\n",
       "      <td>2</td>\n",
       "      <td>Divorced</td>\n",
       "      <td>No</td>\n",
       "    </tr>\n",
       "    <tr>\n",
       "      <th>31</th>\n",
       "      <td>3</td>\n",
       "      <td>Separated</td>\n",
       "      <td>No</td>\n",
       "    </tr>\n",
       "    <tr>\n",
       "      <th>7</th>\n",
       "      <td>4</td>\n",
       "      <td>Widowed</td>\n",
       "      <td>No</td>\n",
       "    </tr>\n",
       "  </tbody>\n",
       "</table>\n",
       "</div>"
      ],
      "text/plain": [
       "    MaritalStatusID MaritalDesc Married\n",
       "0                 0      Single      No\n",
       "1                 1     Married     Yes\n",
       "4                 2    Divorced      No\n",
       "31                3   Separated      No\n",
       "7                 4     Widowed      No"
      ]
     },
     "execution_count": 10,
     "metadata": {},
     "output_type": "execute_result"
    }
   ],
   "source": [
    "marital_status.drop_duplicates(inplace= True)\n",
    "marital_status.sort_values('MaritalStatusID')"
   ]
  },
  {
   "cell_type": "code",
   "execution_count": 11,
   "metadata": {},
   "outputs": [],
   "source": [
    "marital_status.to_csv('data/HR_dataset/marital_status.csv', index=False)"
   ]
  },
  {
   "cell_type": "code",
   "execution_count": 12,
   "metadata": {},
   "outputs": [
    {
     "data": {
      "text/html": [
       "<div>\n",
       "<style scoped>\n",
       "    .dataframe tbody tr th:only-of-type {\n",
       "        vertical-align: middle;\n",
       "    }\n",
       "\n",
       "    .dataframe tbody tr th {\n",
       "        vertical-align: top;\n",
       "    }\n",
       "\n",
       "    .dataframe thead th {\n",
       "        text-align: right;\n",
       "    }\n",
       "</style>\n",
       "<table border=\"1\" class=\"dataframe\">\n",
       "  <thead>\n",
       "    <tr style=\"text-align: right;\">\n",
       "      <th></th>\n",
       "      <th>EmpID</th>\n",
       "      <th>EmploymentStatus</th>\n",
       "      <th>DateofTermination</th>\n",
       "      <th>TermReason</th>\n",
       "    </tr>\n",
       "  </thead>\n",
       "  <tbody>\n",
       "    <tr>\n",
       "      <th>0</th>\n",
       "      <td>10026</td>\n",
       "      <td>Active</td>\n",
       "      <td>NaN</td>\n",
       "      <td>N/A-StillEmployed</td>\n",
       "    </tr>\n",
       "    <tr>\n",
       "      <th>1</th>\n",
       "      <td>10084</td>\n",
       "      <td>Voluntarily Terminated</td>\n",
       "      <td>2016-06-16</td>\n",
       "      <td>career change</td>\n",
       "    </tr>\n",
       "    <tr>\n",
       "      <th>2</th>\n",
       "      <td>10196</td>\n",
       "      <td>Voluntarily Terminated</td>\n",
       "      <td>2012-09-24</td>\n",
       "      <td>hours</td>\n",
       "    </tr>\n",
       "    <tr>\n",
       "      <th>3</th>\n",
       "      <td>10088</td>\n",
       "      <td>Active</td>\n",
       "      <td>NaN</td>\n",
       "      <td>N/A-StillEmployed</td>\n",
       "    </tr>\n",
       "    <tr>\n",
       "      <th>4</th>\n",
       "      <td>10069</td>\n",
       "      <td>Voluntarily Terminated</td>\n",
       "      <td>2016-09-06</td>\n",
       "      <td>return to school</td>\n",
       "    </tr>\n",
       "  </tbody>\n",
       "</table>\n",
       "</div>"
      ],
      "text/plain": [
       "   EmpID        EmploymentStatus DateofTermination         TermReason\n",
       "0  10026                  Active               NaN  N/A-StillEmployed\n",
       "1  10084  Voluntarily Terminated        2016-06-16      career change\n",
       "2  10196  Voluntarily Terminated        2012-09-24              hours\n",
       "3  10088                  Active               NaN  N/A-StillEmployed\n",
       "4  10069  Voluntarily Terminated        2016-09-06   return to school"
      ]
     },
     "execution_count": 12,
     "metadata": {},
     "output_type": "execute_result"
    }
   ],
   "source": [
    "attrition.head()"
   ]
  },
  {
   "cell_type": "code",
   "execution_count": 13,
   "metadata": {},
   "outputs": [],
   "source": [
    "attrition = attrition[attrition[\"EmploymentStatus\"] != \"Active\"]"
   ]
  },
  {
   "cell_type": "code",
   "execution_count": 14,
   "metadata": {},
   "outputs": [],
   "source": [
    "attrition.to_csv('data/HR_dataset/attrition.csv', index=False)"
   ]
  },
  {
   "cell_type": "markdown",
   "metadata": {},
   "source": [
    "___\n",
    "#### Let's create now the \"roster\" table:"
   ]
  },
  {
   "cell_type": "code",
   "execution_count": 18,
   "metadata": {},
   "outputs": [],
   "source": [
    "mid = hr_dataset[['EmpID', 'DateofHire', 'DateofTermination']]"
   ]
  },
  {
   "cell_type": "code",
   "execution_count": 20,
   "metadata": {},
   "outputs": [],
   "source": [
    "mid_max_date = pd.DataFrame(mid['DateofTermination'].fillna('1999-01-01'))"
   ]
  },
  {
   "cell_type": "code",
   "execution_count": 21,
   "metadata": {},
   "outputs": [],
   "source": [
    "calendar = pd.DataFrame(pd.date_range(min(mid['DateofHire']), max(mid_max_date['DateofTermination'])), columns=['Date'])"
   ]
  },
  {
   "cell_type": "markdown",
   "metadata": {},
   "source": [
    "Let's create now a new dataframe with a row for each date-employee:"
   ]
  },
  {
   "cell_type": "code",
   "execution_count": 25,
   "metadata": {},
   "outputs": [],
   "source": [
    "calendar['key'] = 1\n",
    "mid['key'] = 1\n",
    "\n",
    "#Creating the roster\n",
    "roster = pd.merge(calendar, mid, how= 'outer', on='key').drop('key', axis= 1)"
   ]
  },
  {
   "cell_type": "code",
   "execution_count": 26,
   "metadata": {},
   "outputs": [],
   "source": [
    "roster[[\"DateofHire\", \"DateofTermination\"]] = roster[[\"DateofHire\", \"DateofTermination\"]].astype('datetime64[ns]')"
   ]
  },
  {
   "cell_type": "code",
   "execution_count": 28,
   "metadata": {},
   "outputs": [],
   "source": [
    "def status(row):\n",
    "    if row['Date'] < row['DateofHire'] or row['Date'] > row['DateofTermination']:\n",
    "        return 'No active'\n",
    "    else:\n",
    "        return 'Active'\n",
    "\n",
    "roster['Status'] = roster.apply(status, axis= 1)"
   ]
  },
  {
   "cell_type": "code",
   "execution_count": 30,
   "metadata": {},
   "outputs": [],
   "source": [
    "roster = roster[roster['Status'] != \"No active\"].drop(\"Status\", axis= 1)"
   ]
  },
  {
   "cell_type": "code",
   "execution_count": 32,
   "metadata": {},
   "outputs": [],
   "source": [
    "roster.to_csv('data/HR_dataset/roster.csv')"
   ]
  },
  {
   "cell_type": "markdown",
   "metadata": {},
   "source": [
    "___\n",
    "#### For Database creation, let's create the column type (database creation in jupyter `3.Creating_SQL_database`)"
   ]
  },
  {
   "cell_type": "code",
   "execution_count": 15,
   "metadata": {},
   "outputs": [
    {
     "data": {
      "text/plain": [
       "0      object\n",
       "1       int64\n",
       "2      object\n",
       "3       int64\n",
       "4       int64\n",
       "5       int64\n",
       "6       int64\n",
       "7       int64\n",
       "8      object\n",
       "9       int64\n",
       "10     object\n",
       "11      int64\n",
       "12     object\n",
       "13     object\n",
       "14      int64\n",
       "15     object\n",
       "16     object\n",
       "17     object\n",
       "18     object\n",
       "19     object\n",
       "20     object\n",
       "21     object\n",
       "22     object\n",
       "23     object\n",
       "24     object\n",
       "25     object\n",
       "26     object\n",
       "27      int64\n",
       "28     object\n",
       "29     object\n",
       "30    float64\n",
       "31      int64\n",
       "32      int64\n",
       "33     object\n",
       "34      int64\n",
       "35      int64\n",
       "Name: 0, dtype: object"
      ]
     },
     "execution_count": 15,
     "metadata": {},
     "output_type": "execute_result"
    }
   ],
   "source": [
    "# checking types:\n",
    "col_types = hr_dataset.dtypes.reset_index()\n",
    "col_types[0]"
   ]
  },
  {
   "cell_type": "code",
   "execution_count": 16,
   "metadata": {},
   "outputs": [],
   "source": [
    "def conv_sql_type_custom(value):\n",
    "    if value == 'object':\n",
    "        return 'VARCHAR(255)'\n",
    "    elif value == 'int64':\n",
    "        return 'INT'\n",
    "    elif value == 'float64':\n",
    "        return 'FLOAT'\n",
    "    else:\n",
    "        return value\n",
    "\n",
    "col_types['SQL_conv'] = col_types[0].apply(conv_sql_type_custom)\n"
   ]
  },
  {
   "cell_type": "code",
   "execution_count": 17,
   "metadata": {},
   "outputs": [],
   "source": [
    "col_types.to_csv('data/HR_dataset/conversion_sql')"
   ]
  }
 ],
 "metadata": {
  "kernelspec": {
   "display_name": "adalabenv",
   "language": "python",
   "name": "python3"
  },
  "language_info": {
   "codemirror_mode": {
    "name": "ipython",
    "version": 3
   },
   "file_extension": ".py",
   "mimetype": "text/x-python",
   "name": "python",
   "nbconvert_exporter": "python",
   "pygments_lexer": "ipython3",
   "version": "3.10.11"
  },
  "orig_nbformat": 4
 },
 "nbformat": 4,
 "nbformat_minor": 2
}
