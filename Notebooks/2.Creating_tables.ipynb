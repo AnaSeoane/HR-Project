{
 "cells": [
  {
   "cell_type": "markdown",
   "metadata": {},
   "source": [
    "### Opening and creating different tables"
   ]
  },
  {
   "cell_type": "code",
   "execution_count": 1,
   "metadata": {},
   "outputs": [],
   "source": [
    "import pandas as pd\n",
    "import numpy as np\n",
    "import os\n",
    "import warnings\n",
    "warnings.filterwarnings('ignore')"
   ]
  },
  {
   "cell_type": "code",
   "execution_count": 2,
   "metadata": {},
   "outputs": [
    {
     "data": {
      "text/html": [
       "<div>\n",
       "<style scoped>\n",
       "    .dataframe tbody tr th:only-of-type {\n",
       "        vertical-align: middle;\n",
       "    }\n",
       "\n",
       "    .dataframe tbody tr th {\n",
       "        vertical-align: top;\n",
       "    }\n",
       "\n",
       "    .dataframe thead th {\n",
       "        text-align: right;\n",
       "    }\n",
       "</style>\n",
       "<table border=\"1\" class=\"dataframe\">\n",
       "  <thead>\n",
       "    <tr style=\"text-align: right;\">\n",
       "      <th></th>\n",
       "      <th>Employee_Name</th>\n",
       "      <th>EmpID</th>\n",
       "      <th>Married</th>\n",
       "      <th>MaritalStatusID</th>\n",
       "      <th>GenderID</th>\n",
       "      <th>EmpStatusID</th>\n",
       "      <th>DeptID</th>\n",
       "      <th>PerfScoreID</th>\n",
       "      <th>FromDiversityJobFairID</th>\n",
       "      <th>Salary</th>\n",
       "      <th>Term</th>\n",
       "      <th>PositionID</th>\n",
       "      <th>Position</th>\n",
       "      <th>State</th>\n",
       "      <th>Zip</th>\n",
       "      <th>DOB</th>\n",
       "      <th>Sex</th>\n",
       "      <th>MaritalDesc</th>\n",
       "      <th>CitizenDesc</th>\n",
       "      <th>HispanicLatino</th>\n",
       "      <th>RaceDesc</th>\n",
       "      <th>DateofHire</th>\n",
       "      <th>DateofTermination</th>\n",
       "      <th>TermReason</th>\n",
       "      <th>EmploymentStatus</th>\n",
       "      <th>Department</th>\n",
       "      <th>ManagerName</th>\n",
       "      <th>ManagerID</th>\n",
       "      <th>RecruitmentSource</th>\n",
       "      <th>PerformanceScore</th>\n",
       "      <th>EngagementSurvey</th>\n",
       "      <th>EmpSatisfaction</th>\n",
       "      <th>SpecialProjectsCount</th>\n",
       "      <th>LastPerformanceReview_Date</th>\n",
       "      <th>DaysLateLast30</th>\n",
       "      <th>Absences</th>\n",
       "    </tr>\n",
       "  </thead>\n",
       "  <tbody>\n",
       "    <tr>\n",
       "      <th>0</th>\n",
       "      <td>Adinolfi, Wilson  K</td>\n",
       "      <td>10026</td>\n",
       "      <td>No</td>\n",
       "      <td>0</td>\n",
       "      <td>1</td>\n",
       "      <td>1</td>\n",
       "      <td>5</td>\n",
       "      <td>4</td>\n",
       "      <td>No</td>\n",
       "      <td>62506</td>\n",
       "      <td>No</td>\n",
       "      <td>19</td>\n",
       "      <td>Production Technician I</td>\n",
       "      <td>MA</td>\n",
       "      <td>1960</td>\n",
       "      <td>1983-07-10</td>\n",
       "      <td>M</td>\n",
       "      <td>Single</td>\n",
       "      <td>US Citizen</td>\n",
       "      <td>No</td>\n",
       "      <td>White</td>\n",
       "      <td>2011-07-05</td>\n",
       "      <td>NaN</td>\n",
       "      <td>N/A-StillEmployed</td>\n",
       "      <td>Active</td>\n",
       "      <td>Production</td>\n",
       "      <td>Michael Albert</td>\n",
       "      <td>22</td>\n",
       "      <td>LinkedIn</td>\n",
       "      <td>Exceeds</td>\n",
       "      <td>4.60</td>\n",
       "      <td>5</td>\n",
       "      <td>0</td>\n",
       "      <td>2019-01-17</td>\n",
       "      <td>0</td>\n",
       "      <td>1</td>\n",
       "    </tr>\n",
       "    <tr>\n",
       "      <th>1</th>\n",
       "      <td>Ait Sidi, Karthikeyan</td>\n",
       "      <td>10084</td>\n",
       "      <td>Yes</td>\n",
       "      <td>1</td>\n",
       "      <td>1</td>\n",
       "      <td>5</td>\n",
       "      <td>3</td>\n",
       "      <td>3</td>\n",
       "      <td>No</td>\n",
       "      <td>104437</td>\n",
       "      <td>Yes</td>\n",
       "      <td>27</td>\n",
       "      <td>Sr. DBA</td>\n",
       "      <td>MA</td>\n",
       "      <td>2148</td>\n",
       "      <td>1975-05-05</td>\n",
       "      <td>M</td>\n",
       "      <td>Married</td>\n",
       "      <td>US Citizen</td>\n",
       "      <td>No</td>\n",
       "      <td>White</td>\n",
       "      <td>2015-03-30</td>\n",
       "      <td>2016-06-16</td>\n",
       "      <td>career change</td>\n",
       "      <td>Voluntarily Terminated</td>\n",
       "      <td>IT/IS</td>\n",
       "      <td>Simon Roup</td>\n",
       "      <td>4</td>\n",
       "      <td>Indeed</td>\n",
       "      <td>Fully Meets</td>\n",
       "      <td>4.96</td>\n",
       "      <td>3</td>\n",
       "      <td>6</td>\n",
       "      <td>2016-02-24</td>\n",
       "      <td>0</td>\n",
       "      <td>17</td>\n",
       "    </tr>\n",
       "  </tbody>\n",
       "</table>\n",
       "</div>"
      ],
      "text/plain": [
       "              Employee_Name  EmpID Married  MaritalStatusID  GenderID  \\\n",
       "0       Adinolfi, Wilson  K  10026      No                0         1   \n",
       "1  Ait Sidi, Karthikeyan     10084     Yes                1         1   \n",
       "\n",
       "   EmpStatusID  DeptID  PerfScoreID FromDiversityJobFairID  Salary Term  \\\n",
       "0            1       5            4                     No   62506   No   \n",
       "1            5       3            3                     No  104437  Yes   \n",
       "\n",
       "   PositionID                 Position State   Zip         DOB Sex  \\\n",
       "0          19  Production Technician I    MA  1960  1983-07-10  M    \n",
       "1          27                  Sr. DBA    MA  2148  1975-05-05  M    \n",
       "\n",
       "  MaritalDesc CitizenDesc HispanicLatino RaceDesc  DateofHire  \\\n",
       "0      Single  US Citizen             No    White  2011-07-05   \n",
       "1     Married  US Citizen             No    White  2015-03-30   \n",
       "\n",
       "  DateofTermination         TermReason        EmploymentStatus  Department  \\\n",
       "0               NaN  N/A-StillEmployed                  Active  Production   \n",
       "1        2016-06-16      career change  Voluntarily Terminated       IT/IS   \n",
       "\n",
       "      ManagerName  ManagerID RecruitmentSource PerformanceScore  \\\n",
       "0  Michael Albert         22          LinkedIn          Exceeds   \n",
       "1      Simon Roup          4            Indeed      Fully Meets   \n",
       "\n",
       "   EngagementSurvey  EmpSatisfaction  SpecialProjectsCount  \\\n",
       "0              4.60                5                     0   \n",
       "1              4.96                3                     6   \n",
       "\n",
       "  LastPerformanceReview_Date  DaysLateLast30  Absences  \n",
       "0                 2019-01-17               0         1  \n",
       "1                 2016-02-24               0        17  "
      ]
     },
     "execution_count": 2,
     "metadata": {},
     "output_type": "execute_result"
    }
   ],
   "source": [
    "hr_dataset = pd.read_csv('../data/HR_dataset/HR_Dataset_clean.csv', index_col=0)\n",
    "pd.options.display.max_columns = None\n",
    "hr_dataset.head(2)"
   ]
  },
  {
   "cell_type": "markdown",
   "metadata": {},
   "source": [
    "Splitting information:\n",
    "- Creating working profile\n",
    "- Creating personal profile table\n",
    "- Creating recruitment table\n",
    "- Creating performance table\n",
    "- Creating engagement table\n",
    "- Creating absenteeism table\n",
    "- Creating attrition table\n",
    "- Creating department table\n",
    "- Creating position table\n",
    "- Creating manager table\n",
    "- Creating marital_status table\n",
    "- Creating gender table"
   ]
  },
  {
   "cell_type": "code",
   "execution_count": 3,
   "metadata": {},
   "outputs": [
    {
     "data": {
      "text/plain": [
       "Index(['Employee_Name', 'EmpID', 'Married', 'MaritalStatusID', 'GenderID',\n",
       "       'EmpStatusID', 'DeptID', 'PerfScoreID', 'FromDiversityJobFairID',\n",
       "       'Salary', 'Term', 'PositionID', 'Position', 'State', 'Zip', 'DOB',\n",
       "       'Sex', 'MaritalDesc', 'CitizenDesc', 'HispanicLatino', 'RaceDesc',\n",
       "       'DateofHire', 'DateofTermination', 'TermReason', 'EmploymentStatus',\n",
       "       'Department', 'ManagerName', 'ManagerID', 'RecruitmentSource',\n",
       "       'PerformanceScore', 'EngagementSurvey', 'EmpSatisfaction',\n",
       "       'SpecialProjectsCount', 'LastPerformanceReview_Date', 'DaysLateLast30',\n",
       "       'Absences'],\n",
       "      dtype='object')"
      ]
     },
     "execution_count": 3,
     "metadata": {},
     "output_type": "execute_result"
    }
   ],
   "source": [
    "hr_dataset.columns"
   ]
  },
  {
   "cell_type": "code",
   "execution_count": 4,
   "metadata": {},
   "outputs": [],
   "source": [
    "# Creating a dictionaire with the table names as keys and the columns of the original dataframe as values:\n",
    "col_table = {'manager': ['ManagerID', 'ManagerName'],\n",
    "            'position': ['PositionID', 'Position','Department'],\n",
    "            'department': ['DeptID', 'Department'],\n",
    "            'marital_status': ['MaritalStatusID', 'MaritalDesc', 'Married'],\n",
    "            'gender': ['GenderID', 'Sex'], \n",
    "            'working_profile': ['EmpID', 'Term', 'DateofHire', 'Salary', 'DeptID', 'PositionID', 'ManagerID', 'SpecialProjectsCount'],\n",
    "            'personal_profile': ['EmpID', 'Employee_Name', 'DOB', 'MaritalStatusID','GenderID', 'FromDiversityJobFairID', 'CitizenDesc', 'RaceDesc', 'HispanicLatino', 'State', 'Zip'],\n",
    "            'recruitment': ['EmpID', 'RecruitmentSource'],\n",
    "            'performance_employee': ['EmpID', 'LastPerformanceReview_Date', 'PerformanceScore'],\n",
    "            'engagement': ['EmpID', 'EngagementSurvey', 'EmpSatisfaction'],\n",
    "            'absenteeism': ['EmpID', 'DaysLateLast30', 'Absences'],\n",
    "            'attrition': ['EmpID', 'EmploymentStatus', 'DateofTermination', 'TermReason']}"
   ]
  },
  {
   "cell_type": "code",
   "execution_count": 5,
   "metadata": {},
   "outputs": [],
   "source": [
    "# creating a csv for each table of the dictionaire:\n",
    "base_directory = '../data/HR_dataset/'\n",
    "os.makedirs(base_directory, exist_ok= True)\n",
    "dataframes_dict = {}\n",
    "\n",
    "for table_name, columns in col_table.items():\n",
    "    dataframe = hr_dataset[columns]\n",
    "    dataframes_dict[table_name] = hr_dataset[columns]\n",
    "    output_path = os.path.join(base_directory, f\"{table_name}.csv\")\n",
    "    dataframe.to_csv(output_path, index=False)\n",
    "\n",
    "for table_name, dataframe in dataframes_dict.items():\n",
    "    globals()[table_name] = dataframe"
   ]
  },
  {
   "cell_type": "markdown",
   "metadata": {},
   "source": [
    "___\n",
    "Cleaning the new global tables:"
   ]
  },
  {
   "cell_type": "code",
   "execution_count": 6,
   "metadata": {},
   "outputs": [],
   "source": [
    "department.drop_duplicates(inplace= True)\n",
    "department.sort_values('DeptID')\n",
    "department.to_csv('../data/HR_dataset/department.csv', index=False)"
   ]
  },
  {
   "cell_type": "code",
   "execution_count": 7,
   "metadata": {},
   "outputs": [],
   "source": [
    "position.drop_duplicates(inplace= True)\n",
    "position.sort_values('PositionID')\n",
    "position.to_csv('../data/HR_dataset/position.csv', index=False)"
   ]
  },
  {
   "cell_type": "code",
   "execution_count": 8,
   "metadata": {},
   "outputs": [],
   "source": [
    "manager.drop_duplicates(inplace= True)\n",
    "manager.sort_values('ManagerID')\n",
    "manager.to_csv('../data/HR_dataset/manager.csv', index=False)"
   ]
  },
  {
   "cell_type": "code",
   "execution_count": 9,
   "metadata": {},
   "outputs": [],
   "source": [
    "gender.drop_duplicates(inplace= True)\n",
    "gender.sort_values('GenderID')\n",
    "gender.to_csv('../data/HR_dataset/gender.csv', index=False)"
   ]
  },
  {
   "cell_type": "code",
   "execution_count": 10,
   "metadata": {},
   "outputs": [],
   "source": [
    "marital_status.drop_duplicates(inplace= True)\n",
    "marital_status.sort_values('MaritalStatusID')\n",
    "marital_status.to_csv('../data/HR_dataset/marital_status.csv', index=False)"
   ]
  },
  {
   "cell_type": "code",
   "execution_count": 11,
   "metadata": {},
   "outputs": [
    {
     "data": {
      "text/html": [
       "<div>\n",
       "<style scoped>\n",
       "    .dataframe tbody tr th:only-of-type {\n",
       "        vertical-align: middle;\n",
       "    }\n",
       "\n",
       "    .dataframe tbody tr th {\n",
       "        vertical-align: top;\n",
       "    }\n",
       "\n",
       "    .dataframe thead th {\n",
       "        text-align: right;\n",
       "    }\n",
       "</style>\n",
       "<table border=\"1\" class=\"dataframe\">\n",
       "  <thead>\n",
       "    <tr style=\"text-align: right;\">\n",
       "      <th></th>\n",
       "      <th>EmpID</th>\n",
       "      <th>EmploymentStatus</th>\n",
       "      <th>DateofTermination</th>\n",
       "      <th>TermReason</th>\n",
       "    </tr>\n",
       "  </thead>\n",
       "  <tbody>\n",
       "    <tr>\n",
       "      <th>0</th>\n",
       "      <td>10026</td>\n",
       "      <td>Active</td>\n",
       "      <td>NaN</td>\n",
       "      <td>N/A-StillEmployed</td>\n",
       "    </tr>\n",
       "    <tr>\n",
       "      <th>1</th>\n",
       "      <td>10084</td>\n",
       "      <td>Voluntarily Terminated</td>\n",
       "      <td>2016-06-16</td>\n",
       "      <td>career change</td>\n",
       "    </tr>\n",
       "    <tr>\n",
       "      <th>2</th>\n",
       "      <td>10196</td>\n",
       "      <td>Voluntarily Terminated</td>\n",
       "      <td>2012-09-24</td>\n",
       "      <td>hours</td>\n",
       "    </tr>\n",
       "    <tr>\n",
       "      <th>3</th>\n",
       "      <td>10088</td>\n",
       "      <td>Active</td>\n",
       "      <td>NaN</td>\n",
       "      <td>N/A-StillEmployed</td>\n",
       "    </tr>\n",
       "    <tr>\n",
       "      <th>4</th>\n",
       "      <td>10069</td>\n",
       "      <td>Voluntarily Terminated</td>\n",
       "      <td>2016-09-06</td>\n",
       "      <td>return to school</td>\n",
       "    </tr>\n",
       "  </tbody>\n",
       "</table>\n",
       "</div>"
      ],
      "text/plain": [
       "   EmpID        EmploymentStatus DateofTermination         TermReason\n",
       "0  10026                  Active               NaN  N/A-StillEmployed\n",
       "1  10084  Voluntarily Terminated        2016-06-16      career change\n",
       "2  10196  Voluntarily Terminated        2012-09-24              hours\n",
       "3  10088                  Active               NaN  N/A-StillEmployed\n",
       "4  10069  Voluntarily Terminated        2016-09-06   return to school"
      ]
     },
     "execution_count": 11,
     "metadata": {},
     "output_type": "execute_result"
    }
   ],
   "source": [
    "attrition.head()"
   ]
  },
  {
   "cell_type": "code",
   "execution_count": 12,
   "metadata": {},
   "outputs": [],
   "source": [
    "attrition = attrition[attrition[\"EmploymentStatus\"] != \"Active\"]\n",
    "attrition.to_csv('../data/HR_dataset/attrition.csv', index=False)"
   ]
  },
  {
   "cell_type": "markdown",
   "metadata": {},
   "source": [
    "___\n",
    "#### For Database creation, let's create the column type (database creation in jupyter `3.Creating_SQL_database`)"
   ]
  },
  {
   "cell_type": "code",
   "execution_count": 13,
   "metadata": {},
   "outputs": [
    {
     "data": {
      "text/plain": [
       "0      object\n",
       "1       int64\n",
       "2      object\n",
       "3       int64\n",
       "4       int64\n",
       "5       int64\n",
       "6       int64\n",
       "7       int64\n",
       "8      object\n",
       "9       int64\n",
       "10     object\n",
       "11      int64\n",
       "12     object\n",
       "13     object\n",
       "14      int64\n",
       "15     object\n",
       "16     object\n",
       "17     object\n",
       "18     object\n",
       "19     object\n",
       "20     object\n",
       "21     object\n",
       "22     object\n",
       "23     object\n",
       "24     object\n",
       "25     object\n",
       "26     object\n",
       "27      int64\n",
       "28     object\n",
       "29     object\n",
       "30    float64\n",
       "31      int64\n",
       "32      int64\n",
       "33     object\n",
       "34      int64\n",
       "35      int64\n",
       "Name: 0, dtype: object"
      ]
     },
     "execution_count": 13,
     "metadata": {},
     "output_type": "execute_result"
    }
   ],
   "source": [
    "# checking types:\n",
    "col_types = hr_dataset.dtypes.reset_index()\n",
    "col_types[0]"
   ]
  },
  {
   "cell_type": "code",
   "execution_count": 14,
   "metadata": {},
   "outputs": [],
   "source": [
    "def conv_sql_type_custom(value):\n",
    "    if value == 'object':\n",
    "        return 'VARCHAR(255)'\n",
    "    elif value == 'int64':\n",
    "        return 'INT'\n",
    "    elif value == 'float64':\n",
    "        return 'FLOAT'\n",
    "    else:\n",
    "        return value\n",
    "\n",
    "col_types['SQL_conv'] = col_types[0].apply(conv_sql_type_custom)\n"
   ]
  },
  {
   "cell_type": "code",
   "execution_count": 15,
   "metadata": {},
   "outputs": [],
   "source": [
    "col_types.to_csv('../data/HR_dataset/conversion_sql.csv')"
   ]
  }
 ],
 "metadata": {
  "kernelspec": {
   "display_name": "adalabenv",
   "language": "python",
   "name": "python3"
  },
  "language_info": {
   "codemirror_mode": {
    "name": "ipython",
    "version": 3
   },
   "file_extension": ".py",
   "mimetype": "text/x-python",
   "name": "python",
   "nbconvert_exporter": "python",
   "pygments_lexer": "ipython3",
   "version": "3.10.11"
  },
  "orig_nbformat": 4
 },
 "nbformat": 4,
 "nbformat_minor": 2
}
