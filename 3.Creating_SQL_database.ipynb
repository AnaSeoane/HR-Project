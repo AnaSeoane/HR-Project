{
 "cells": [
  {
   "cell_type": "markdown",
   "metadata": {},
   "source": [
    "### Creating database"
   ]
  },
  {
   "cell_type": "code",
   "execution_count": 1,
   "metadata": {},
   "outputs": [],
   "source": [
    "import pandas as pd\n",
    "import mysql.connector"
   ]
  },
  {
   "cell_type": "code",
   "execution_count": 1,
   "metadata": {},
   "outputs": [
    {
     "name": "stdout",
     "output_type": "stream",
     "text": [
      "CMySQLCursor: CREATE DATABASE HR_Database\n"
     ]
    }
   ],
   "source": [
    "cnx = mysql.connector.connect(user='root', password='AlumnaAdalab',\n",
    "                              auth_plugin='mysql_native_password',\n",
    "                              host='127.0.0.1')\n",
    "\n",
    "\n",
    "mycursor = cnx.cursor()\n",
    "try:\n",
    "    mycursor.execute(\"CREATE DATABASE HR_Database\")\n",
    "    print(mycursor)\n",
    "except mysql.connector.Error as err:\n",
    "    print(err)\n",
    "    print(\"Error Code:\", err.errno)\n",
    "    print(\"SQLSTATE\", err.sqlstate)\n",
    "    print(\"Message\", err.msg)"
   ]
  },
  {
   "cell_type": "code",
   "execution_count": 9,
   "metadata": {},
   "outputs": [],
   "source": [
    "col_types = pd.read_csv('data/HR_dataset/conversion_sql', index_col=0)"
   ]
  },
  {
   "cell_type": "code",
   "execution_count": 11,
   "metadata": {},
   "outputs": [
    {
     "name": "stdout",
     "output_type": "stream",
     "text": [
      "CREATE TABLE working_profile (EmpID INT, Term VARCHAR(255), EmploymentStatus VARCHAR(255), DateofHire VARCHAR(255), DateofTermination VARCHAR(255), Salary INT, Department VARCHAR(255), Position VARCHAR(255), SpecialProjectsCount INT, PRIMARY KEY (EmpID));\n",
      "CREATE TABLE personal_profile (EmpID INT, Employee_Name VARCHAR(255), DOB VARCHAR(255), MaritalStatusID INT, GenderID INT, FromDiversityJobFairID VARCHAR(255), CitizenDesc VARCHAR(255), RaceDesc VARCHAR(255), HispanicLatino VARCHAR(255), State VARCHAR(255), Zip INT, PRIMARY KEY (EmpID));\n",
      "CREATE TABLE recruitment (EmpID INT, RecruitmentSource VARCHAR(255), PRIMARY KEY (EmpID));\n",
      "CREATE TABLE performance_employee (EmpID INT, LastPerformanceReview_Date VARCHAR(255), PerformanceScore VARCHAR(255), PRIMARY KEY (EmpID));\n",
      "CREATE TABLE engagement (EmpID INT, EngagementSurvey FLOAT, EmpSatisfaction INT, PRIMARY KEY (EmpID));\n",
      "CREATE TABLE absenteeism (EmpID INT, DaysLateLast30 INT, Absences INT, PRIMARY KEY (EmpID));\n",
      "CREATE TABLE attrition (EmpID INT, EmploymentStatus VARCHAR(255), DateofTermination VARCHAR(255), TermReason VARCHAR(255), PRIMARY KEY (EmpID));\n",
      "CREATE TABLE manager (ManagerID INT, ManagerName VARCHAR(255), PRIMARY KEY (ManagerID));\n",
      "CREATE TABLE marital_status (MaritalStatusID INT, MaritalDesc VARCHAR(255), Married VARCHAR(255), PRIMARY KEY (MaritalStatusID));\n",
      "CREATE TABLE gender (GenderID INT, Sex VARCHAR(255), PRIMARY KEY (GenderID));\n"
     ]
    }
   ],
   "source": [
    "for table_name, columns in col_table.items():\n",
    "    columns_sql = ', '.join([f'{column} {col_types.loc[col_types[\"index\"] == column, \"SQL_conv\"].values[0]}' for column in columns])\n",
    "    primary_key = columns[0]\n",
    "    print(f'CREATE TABLE {table_name} ({columns_sql}, PRIMARY KEY ({primary_key}));')"
   ]
  },
  {
   "cell_type": "code",
   "execution_count": 12,
   "metadata": {},
   "outputs": [],
   "source": [
    "col_table = {'working_profile': ['EmpID', 'Term', 'EmploymentStatus', 'DateofHire', 'DateofTermination', 'Salary', 'Department', 'Position', 'SpecialProjectsCount'],\n",
    "            'personal_profile': ['EmpID', 'Employee_Name', 'DOB', 'MaritalStatusID','GenderID', 'FromDiversityJobFairID', 'CitizenDesc', 'RaceDesc', 'HispanicLatino', 'State', 'Zip'],\n",
    "            'recruitment': ['EmpID', 'RecruitmentSource'],\n",
    "            'performance_employee': ['EmpID', 'LastPerformanceReview_Date', 'PerformanceScore'],\n",
    "            'engagement': ['EmpID', 'EngagementSurvey', 'EmpSatisfaction'],\n",
    "            'absenteeism': ['EmpID', 'DaysLateLast30', 'Absences'],\n",
    "            'attrition': ['EmpID', 'EmploymentStatus', 'DateofTermination', 'TermReason'],\n",
    "            'manager': ['ManagerID', 'ManagerName'],\n",
    "            'marital_status': ['MaritalStatusID', 'MaritalDesc', 'Married'],\n",
    "            'gender': ['GenderID', 'Sex']}"
   ]
  },
  {
   "cell_type": "code",
   "execution_count": 14,
   "metadata": {},
   "outputs": [
    {
     "name": "stdout",
     "output_type": "stream",
     "text": [
      "CMySQLCursor: CREATE TABLE working_profile (EmpID INT,..\n",
      "CMySQLCursor: CREATE TABLE personal_profile (EmpID INT..\n",
      "CMySQLCursor: CREATE TABLE recruitment (EmpID INT, Rec..\n",
      "CMySQLCursor: CREATE TABLE performance_employee (EmpID..\n",
      "CMySQLCursor: CREATE TABLE engagement (EmpID INT, Enga..\n",
      "CMySQLCursor: CREATE TABLE absenteeism (EmpID INT, Day..\n",
      "CMySQLCursor: CREATE TABLE attrition (EmpID INT, Emplo..\n",
      "CMySQLCursor: CREATE TABLE manager (ManagerID INT, Man..\n",
      "CMySQLCursor: CREATE TABLE marital_status (MaritalStat..\n",
      "CMySQLCursor: CREATE TABLE gender (GenderID INT, Sex V..\n"
     ]
    }
   ],
   "source": [
    "#automating the tables creation:\n",
    "cnx = mysql.connector.connect(user='root', password='AlumnaAdalab',\n",
    "                              host='127.0.0.1', database='HR_Database')\n",
    "\n",
    "mycursor = cnx.cursor()\n",
    "try:\n",
    "    for table_name, columns in col_table.items():\n",
    "        columns_sql = ', '.join([f'{column} {col_types.loc[col_types[\"index\"] == column, \"SQL_conv\"].values[0]}' for column in columns])\n",
    "        mycursor.execute(f'CREATE TABLE {table_name} ({columns_sql}, PRIMARY KEY ({columns[0]}));')\n",
    "        print(mycursor)\n",
    "        \n",
    "except mysql.connector.Error as err:\n",
    "    print(err)\n",
    "    print(\"Error Code:\", err.errno)\n",
    "    print(\"SQLSTATE\", err.sqlstate)\n",
    "    print(\"Message\", err.msg)"
   ]
  }
 ],
 "metadata": {
  "kernelspec": {
   "display_name": "adalabenv",
   "language": "python",
   "name": "python3"
  },
  "language_info": {
   "codemirror_mode": {
    "name": "ipython",
    "version": 3
   },
   "file_extension": ".py",
   "mimetype": "text/x-python",
   "name": "python",
   "nbconvert_exporter": "python",
   "pygments_lexer": "ipython3",
   "version": "3.11.2"
  },
  "orig_nbformat": 4
 },
 "nbformat": 4,
 "nbformat_minor": 2
}
