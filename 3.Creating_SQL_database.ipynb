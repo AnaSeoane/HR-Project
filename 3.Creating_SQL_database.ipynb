{
 "cells": [
  {
   "cell_type": "markdown",
   "metadata": {},
   "source": [
    "### Creating database"
   ]
  },
  {
   "cell_type": "code",
   "execution_count": 1,
   "metadata": {},
   "outputs": [],
   "source": [
    "import pandas as pd\n",
    "import mysql.connector\n",
    "from sqlalchemy import create_engine"
   ]
  },
  {
   "cell_type": "code",
   "execution_count": 11,
   "metadata": {},
   "outputs": [],
   "source": [
    "#creating the database\n",
    "def db_creation(password, db):\n",
    "    \n",
    "    cnx = mysql.connector.connect(user='root', password=f'{password}',\n",
    "                                auth_plugin='mysql_native_password',\n",
    "                                host='127.0.0.1')\n",
    "\n",
    "\n",
    "    mycursor = cnx.cursor()\n",
    "    try:\n",
    "        mycursor.execute(f\"CREATE DATABASE {db}\")\n",
    "        print(mycursor)\n",
    "    except mysql.connector.Error as err:\n",
    "        print(err)\n",
    "        print(\"Error Code:\", err.errno)\n",
    "        print(\"SQLSTATE\", err.sqlstate)\n",
    "        print(\"Message\", err.msg)"
   ]
  },
  {
   "cell_type": "code",
   "execution_count": 15,
   "metadata": {},
   "outputs": [
    {
     "name": "stdout",
     "output_type": "stream",
     "text": [
      "CMySQLCursor: CREATE DATABASE HR_Database\n"
     ]
    }
   ],
   "source": [
    "db_creation('AlumnaAdalab', 'HR_Database')"
   ]
  },
  {
   "cell_type": "code",
   "execution_count": 12,
   "metadata": {},
   "outputs": [],
   "source": [
    "# opening the csv of the dataframe with df dtype and MySQL type 'traduction': \n",
    "col_types = pd.read_csv('data/HR_dataset/conversion_sql', index_col=0)"
   ]
  },
  {
   "cell_type": "code",
   "execution_count": 13,
   "metadata": {},
   "outputs": [],
   "source": [
    "#Copyping the dictionaire of tables creation (table: columns)\n",
    "col_table = {'working_profile': ['EmpID', 'Term', 'EmploymentStatus', 'DateofHire', 'DateofTermination', 'Salary', 'Department', 'Position', 'ManagerID', 'SpecialProjectsCount'],\n",
    "            'personal_profile': ['EmpID', 'Employee_Name', 'DOB', 'MaritalStatusID','GenderID', 'FromDiversityJobFairID', 'CitizenDesc', 'RaceDesc', 'HispanicLatino', 'State', 'Zip'],\n",
    "            'recruitment': ['EmpID', 'RecruitmentSource'],\n",
    "            'performance_employee': ['EmpID', 'LastPerformanceReview_Date', 'PerformanceScore'],\n",
    "            'engagement': ['EmpID', 'EngagementSurvey', 'EmpSatisfaction'],\n",
    "            'absenteeism': ['EmpID', 'DaysLateLast30', 'Absences'],\n",
    "            'attrition': ['EmpID', 'EmploymentStatus', 'DateofTermination', 'TermReason'],\n",
    "            'manager': ['ManagerID', 'ManagerName'],\n",
    "            'marital_status': ['MaritalStatusID', 'MaritalDesc', 'Married'],\n",
    "            'gender': ['GenderID', 'Sex']}"
   ]
  },
  {
   "cell_type": "code",
   "execution_count": 77,
   "metadata": {},
   "outputs": [
    {
     "name": "stdout",
     "output_type": "stream",
     "text": [
      "(EmpID, Term, EmploymentStatus, DateofHire, DateofTermination, Salary, Department, Position, ManagerID, SpecialProjectsCount)\n"
     ]
    }
   ],
   "source": [
    "columnas = col_table['working_profile']\n",
    "\n",
    "formatted_line = \"(\" + \", \".join(columnas) + \")\"\n",
    "\n",
    "print(formatted_line)"
   ]
  },
  {
   "cell_type": "code",
   "execution_count": null,
   "metadata": {},
   "outputs": [],
   "source": [
    "for line in columnas:\n",
    "    formatted_line = \"(\" + \", \".join(line) + \")\"\n",
    "    formatted_lines.append(formatted_line)\n",
    "\n",
    "sql_insert_values = \",\".join(formatted_lines)\n",
    "sql_insert_values"
   ]
  },
  {
   "cell_type": "code",
   "execution_count": 18,
   "metadata": {},
   "outputs": [],
   "source": [
    "#automating the tables creation:\n",
    "def tables_creation(password, db, tables_dict):\n",
    "    cnx = mysql.connector.connect(user='root', password=f'{password}',\n",
    "                                host='127.0.0.1', database=f'{db}')\n",
    "\n",
    "    mycursor = cnx.cursor()\n",
    "    try:\n",
    "        for table_name, columns in tables_dict.items():\n",
    "            columns_sql = ', '.join([f'{column} {col_types.loc[col_types[\"index\"] == column, \"SQL_conv\"].values[0]}' for column in columns])\n",
    "            \n",
    "            mycursor.execute(f'CREATE TABLE {table_name} ({columns_sql}, PRIMARY KEY ({columns[0]}));')\n",
    "            print(mycursor)\n",
    "            \n",
    "    except mysql.connector.Error as err:\n",
    "        print(err)\n",
    "        print(\"Error Code:\", err.errno)\n",
    "        print(\"SQLSTATE\", err.sqlstate)\n",
    "        print(\"Message\", err.msg)"
   ]
  },
  {
   "cell_type": "code",
   "execution_count": 19,
   "metadata": {},
   "outputs": [
    {
     "name": "stdout",
     "output_type": "stream",
     "text": [
      "CMySQLCursor: CREATE TABLE working_profile (EmpID INT,..\n",
      "CMySQLCursor: CREATE TABLE personal_profile (EmpID INT..\n",
      "CMySQLCursor: CREATE TABLE recruitment (EmpID INT, Rec..\n",
      "CMySQLCursor: CREATE TABLE performance_employee (EmpID..\n",
      "CMySQLCursor: CREATE TABLE engagement (EmpID INT, Enga..\n",
      "CMySQLCursor: CREATE TABLE absenteeism (EmpID INT, Day..\n",
      "CMySQLCursor: CREATE TABLE attrition (EmpID INT, Emplo..\n",
      "CMySQLCursor: CREATE TABLE manager (ManagerID INT, Man..\n",
      "CMySQLCursor: CREATE TABLE marital_status (MaritalStat..\n",
      "CMySQLCursor: CREATE TABLE gender (GenderID INT, Sex V..\n"
     ]
    }
   ],
   "source": [
    "tables_creation('AlumnaAdalab', 'HR_Database', col_table)"
   ]
  },
  {
   "cell_type": "code",
   "execution_count": 22,
   "metadata": {},
   "outputs": [],
   "source": [
    "#importing the tables to insert:\n",
    "for k in col_table.keys():\n",
    "    globals()[k] = pd.read_csv(f'data/HR_dataset/{k}.csv')"
   ]
  },
  {
   "cell_type": "code",
   "execution_count": 67,
   "metadata": {},
   "outputs": [
    {
     "data": {
      "text/plain": [
       "'(0, 1, M ),(2, 0, F)'"
      ]
     },
     "execution_count": 67,
     "metadata": {},
     "output_type": "execute_result"
    }
   ],
   "source": [
    "for table_name, columns in col_table.items():\n",
    "    df = pd.read_csv(f'data/HR_dataset/{table_name}.csv')\n",
    "    \n",
    "    list_of_lists = [row.tolist() for index, row in df.iterrows()]\n",
    "\n",
    "    formatted_lines = []\n",
    "\n",
    "    for line in list_of_lists:\n",
    "        formatted_line = \"(\" + \", \".join(map(str, line)) + \")\"\n",
    "        formatted_lines.append(formatted_line)\n",
    "\n",
    "    sql_insert_values = \",\".join(formatted_lines)\n",
    "\n",
    "sql_insert_values"
   ]
  },
  {
   "cell_type": "code",
   "execution_count": 81,
   "metadata": {},
   "outputs": [],
   "source": [
    "def insert_table(password, db, tables_dict):\n",
    "    \n",
    "    cnx = mysql.connector.connect(user='root', password=f'{password}',\n",
    "                                host='127.0.0.1', database=f'{db}')\n",
    "\n",
    "    mycursor = cnx.cursor()\n",
    "    \n",
    "\n",
    "    try: \n",
    "        \n",
    "        for table_name, columns in tables_dict.items():\n",
    "            \n",
    "            df = pd.read_csv(f'data/HR_dataset/{table_name}.csv') # opening the dataframe\n",
    "            \n",
    "            list_of_lists = [row.tolist() for index, row in df.iterrows()] # creating a list of each row from each dataframe\n",
    "\n",
    "            formatted_lines = []\n",
    "\n",
    "            for line in list_of_lists:\n",
    "                formatted_line = \"(\" + \", \".join(str(item) for item in line) + \")\" # formatting each row-list for SQL input\n",
    "                formatted_lines.append(formatted_line)\n",
    "\n",
    "            sql_insert_values = \",\".join(formatted_lines)\n",
    "            \n",
    "\n",
    "            \n",
    "        print((f'INSERT INTO {table_name} VALUES {sql_insert_values};'))\n",
    "        mycursor.execute(f'INSERT INTO {table_name} ({columns}) VALUES {sql_insert_values};')\n",
    "        cnx.commit() \n",
    "\n",
    "    except mysql.connector.Error as err:\n",
    "        print(err)\n",
    "        print(\"Error Code:\", err.errno)\n",
    "        print(\"SQLSTATE\", err.sqlstate)\n",
    "        print(\"Message\", err.msg)"
   ]
  },
  {
   "cell_type": "code",
   "execution_count": 82,
   "metadata": {},
   "outputs": [
    {
     "name": "stdout",
     "output_type": "stream",
     "text": [
      "INSERT INTO gender VALUES (0, 1, M ),(2, 0, F);\n",
      "1064 (42000): You have an error in your SQL syntax; check the manual that corresponds to your MySQL server version for the right syntax to use near '['GenderID', 'Sex']) VALUES (0, 1, M ),(2, 0, F)' at line 1\n",
      "Error Code: 1064\n",
      "SQLSTATE 42000\n",
      "Message You have an error in your SQL syntax; check the manual that corresponds to your MySQL server version for the right syntax to use near '['GenderID', 'Sex']) VALUES (0, 1, M ),(2, 0, F)' at line 1\n"
     ]
    }
   ],
   "source": [
    "insert_table('AlumnaAdalab', 'HR_Database', col_table)"
   ]
  },
  {
   "cell_type": "code",
   "execution_count": 7,
   "metadata": {},
   "outputs": [
    {
     "name": "stdout",
     "output_type": "stream",
     "text": [
      "CMySQLCursor: ALTER TABLE `working_profile` \n",
      "         ..\n"
     ]
    }
   ],
   "source": [
    "#creating foreign keys:\n",
    "cnx = mysql.connector.connect(user='root', password='AlumnaAdalab',\n",
    "                              host='127.0.0.1', database='HR_Database')\n",
    "\n",
    "mycursor = cnx.cursor()\n",
    "try:\n",
    "\n",
    "    mycursor.execute(\"\"\"ALTER TABLE `working_profile` \n",
    "                     ADD CONSTRAINT `fk_working_personal` FOREIGN KEY (`EmpID`) REFERENCES `personal_profile` (`EmpID`) ON DELETE RESTRICT ON UPDATE CASCADE, \n",
    "                     ADD CONSTRAINT `fk_working_recruitment` FOREIGN KEY (`EmpID`) REFERENCES `recruitment` (`EmpID`) ON DELETE RESTRICT ON UPDATE CASCADE, \n",
    "                     ADD CONSTRAINT `fk_working_performance_employee` FOREIGN KEY (`EmpID`) REFERENCES `performance_employee` (`EmpID`) ON DELETE RESTRICT ON UPDATE CASCADE, \n",
    "                     ADD CONSTRAINT `fk_working_engagement` FOREIGN KEY (`EmpID`) REFERENCES `engagement` (`EmpID`) ON DELETE RESTRICT ON UPDATE CASCADE, \n",
    "                     ADD CONSTRAINT `fk_working_absenteeism` FOREIGN KEY (`EmpID`) REFERENCES `absenteeism` (`EmpID`) ON DELETE RESTRICT ON UPDATE CASCADE, \n",
    "                     ADD CONSTRAINT `fk_working_attrition` FOREIGN KEY (`EmpID`) REFERENCES `attrition` (`EmpID`) ON DELETE RESTRICT ON UPDATE CASCADE; \n",
    "                     ALTER TABLE `manager` ADD CONSTRAINT `fk_manager_working` FOREIGN KEY (`ManagerID`) REFERENCES `working_profile` (`ManagerID`) ON DELETE RESTRICT ON UPDATE CASCADE; \n",
    "                     ALTER TABLE `marital_status` ADD CONSTRAINT `fk_marital_personal` FOREIGN KEY (`MaritalStatusID`) REFERENCES `personal_profile`(`MaritalStatusID`) ON DELETE RESTRICT ON UPDATE CASCADE; \n",
    "                     ALTER TABLE `gender` ADD CONSTRAINT `fk_gender_personal` FOREIGN KEY (`GenderID`) REFERENCES `personal_profile` (`GenderID`) ON DELETE RESTRICT ON UPDATE CASCADE;\"\"\")\n",
    "    print(mycursor)\n",
    "    \n",
    "except mysql.connector.Error as err:\n",
    "    print(err)\n",
    "    print(\"Error Code:\", err.errno)\n",
    "    print(\"SQLSTATE\", err.sqlstate)\n",
    "    print(\"Message\", err.msg)"
   ]
  }
 ],
 "metadata": {
  "kernelspec": {
   "display_name": "adalabenv",
   "language": "python",
   "name": "python3"
  },
  "language_info": {
   "codemirror_mode": {
    "name": "ipython",
    "version": 3
   },
   "file_extension": ".py",
   "mimetype": "text/x-python",
   "name": "python",
   "nbconvert_exporter": "python",
   "pygments_lexer": "ipython3",
   "version": "3.11.2"
  },
  "orig_nbformat": 4
 },
 "nbformat": 4,
 "nbformat_minor": 2
}
