{
 "cells": [
  {
   "cell_type": "markdown",
   "metadata": {},
   "source": [
    "### Creating database"
   ]
  },
  {
   "cell_type": "code",
   "execution_count": 1,
   "metadata": {},
   "outputs": [],
   "source": [
    "import pandas as pd\n",
    "import mysql.connector\n",
    "from sqlalchemy import create_engine"
   ]
  },
  {
   "cell_type": "code",
   "execution_count": 2,
   "metadata": {},
   "outputs": [
    {
     "name": "stdout",
     "output_type": "stream",
     "text": [
      "CMySQLCursor: CREATE DATABASE HR_Database\n"
     ]
    }
   ],
   "source": [
    "#creating the database\n",
    "cnx = mysql.connector.connect(user='root', password='AlumnaAdalab',\n",
    "                              auth_plugin='mysql_native_password',\n",
    "                              host='127.0.0.1')\n",
    "\n",
    "\n",
    "mycursor = cnx.cursor()\n",
    "try:\n",
    "    mycursor.execute(\"CREATE DATABASE HR_Database\")\n",
    "    print(mycursor)\n",
    "except mysql.connector.Error as err:\n",
    "    print(err)\n",
    "    print(\"Error Code:\", err.errno)\n",
    "    print(\"SQLSTATE\", err.sqlstate)\n",
    "    print(\"Message\", err.msg)"
   ]
  },
  {
   "cell_type": "code",
   "execution_count": 3,
   "metadata": {},
   "outputs": [],
   "source": [
    "# opening the csv of the dataframe with df dtype and MySQL type 'traduction': \n",
    "col_types = pd.read_csv('data/HR_dataset/conversion_sql', index_col=0)"
   ]
  },
  {
   "cell_type": "code",
   "execution_count": 4,
   "metadata": {},
   "outputs": [],
   "source": [
    "#Copyping the dictionaire of tables creation (table: columns)\n",
    "col_table = {'working_profile': ['EmpID', 'Term', 'EmploymentStatus', 'DateofHire', 'DateofTermination', 'Salary', 'Department', 'Position', 'ManagerID', 'SpecialProjectsCount'],\n",
    "            'personal_profile': ['EmpID', 'Employee_Name', 'DOB', 'MaritalStatusID','GenderID', 'FromDiversityJobFairID', 'CitizenDesc', 'RaceDesc', 'HispanicLatino', 'State', 'Zip'],\n",
    "            'recruitment': ['EmpID', 'RecruitmentSource'],\n",
    "            'performance_employee': ['EmpID', 'LastPerformanceReview_Date', 'PerformanceScore'],\n",
    "            'engagement': ['EmpID', 'EngagementSurvey', 'EmpSatisfaction'],\n",
    "            'absenteeism': ['EmpID', 'DaysLateLast30', 'Absences'],\n",
    "            'attrition': ['EmpID', 'EmploymentStatus', 'DateofTermination', 'TermReason'],\n",
    "            'manager': ['ManagerID', 'ManagerName'],\n",
    "            'marital_status': ['MaritalStatusID', 'MaritalDesc', 'Married'],\n",
    "            'gender': ['GenderID', 'Sex']}"
   ]
  },
  {
   "cell_type": "code",
   "execution_count": 6,
   "metadata": {},
   "outputs": [
    {
     "name": "stdout",
     "output_type": "stream",
     "text": [
      "CMySQLCursor: CREATE TABLE working_profile (EmpID INT,..\n",
      "CMySQLCursor: CREATE TABLE personal_profile (EmpID INT..\n",
      "CMySQLCursor: CREATE TABLE recruitment (EmpID INT, Rec..\n",
      "CMySQLCursor: CREATE TABLE performance_employee (EmpID..\n",
      "CMySQLCursor: CREATE TABLE engagement (EmpID INT, Enga..\n",
      "CMySQLCursor: CREATE TABLE absenteeism (EmpID INT, Day..\n",
      "CMySQLCursor: CREATE TABLE attrition (EmpID INT, Emplo..\n",
      "CMySQLCursor: CREATE TABLE manager (ManagerID INT, Man..\n",
      "CMySQLCursor: CREATE TABLE marital_status (MaritalStat..\n",
      "CMySQLCursor: CREATE TABLE gender (GenderID INT, Sex V..\n"
     ]
    }
   ],
   "source": [
    "#automating the tables creation:\n",
    "cnx = mysql.connector.connect(user='root', password='AlumnaAdalab',\n",
    "                              host='127.0.0.1', database='HR_Database')\n",
    "\n",
    "mycursor = cnx.cursor()\n",
    "try:\n",
    "    for table_name, columns in col_table.items():\n",
    "        columns_sql = ', '.join([f'{column} {col_types.loc[col_types[\"index\"] == column, \"SQL_conv\"].values[0]}' for column in columns])\n",
    "        mycursor.execute(f'CREATE TABLE {table_name} ({columns_sql}, PRIMARY KEY ({columns[0]}));')\n",
    "        print(mycursor)\n",
    "        \n",
    "except mysql.connector.Error as err:\n",
    "    print(err)\n",
    "    print(\"Error Code:\", err.errno)\n",
    "    print(\"SQLSTATE\", err.sqlstate)\n",
    "    print(\"Message\", err.msg)"
   ]
  },
  {
   "cell_type": "code",
   "execution_count": 10,
   "metadata": {},
   "outputs": [],
   "source": [
    "#importamos cada tabla para insertar los datos:\n",
    "\"\"\"for k in col_table.keys():\n",
    "    with open(f'data/HR_dataset/{k}.csv','r') as file:\n",
    "        globals()[k] = file.readlines()\"\"\""
   ]
  },
  {
   "cell_type": "code",
   "execution_count": null,
   "metadata": {},
   "outputs": [],
   "source": [
    "#inserting data:\n",
    "\n",
    "\"\"\"cnx = mysql.connector.connect(user='root', password='AlumnaAdalab',\n",
    "                              host='127.0.0.1', database='HR_Database')\n",
    "\n",
    "        mycursor = cnx.cursor()\n",
    "\n",
    "        for k, v in col_table.items():\n",
    "            \n",
    "            sql = \"\"\"INSERT INTO txt (index_txt, q3, q4, q5, q6, q7, q8, q9, q11, q12, q13, q14, q15, q16, q17, \n",
    "                                q20, q21, q22, q23, q24, q25, q26, q32, q33, q34, q35, q41)\n",
    "                VALUES (%s, %s, %s, %s, %s, %s, %s, %s, %s, %s, %s, %s, %s, %s, %s, %s, %s, %s, %s, %s, %s, %s, %s, %s, %s, %s, %s)\"\"\"\n",
    "            val = self.creacion_tabla_txt(file_source)[1:]\n",
    "\n",
    "        try: \n",
    "            mycursor.executemany(sql, val)\n",
    "            cnx.commit()\n",
    "            print(mycursor.rowcount, \"registro/s insertado/s.\")\n",
    "\n",
    "        except mysql.connector.Error as err:\n",
    "            print(err)\n",
    "            print(\"Error Code:\", err.errno)\n",
    "            print(\"SQLSTATE\", err.sqlstate)\n",
    "            print(\"Message\", err.msg)\"\"\""
   ]
  },
  {
   "cell_type": "code",
   "execution_count": 7,
   "metadata": {},
   "outputs": [
    {
     "name": "stdout",
     "output_type": "stream",
     "text": [
      "CMySQLCursor: ALTER TABLE `working_profile` \n",
      "         ..\n"
     ]
    }
   ],
   "source": [
    "#creating foreign keys:\n",
    "cnx = mysql.connector.connect(user='root', password='AlumnaAdalab',\n",
    "                              host='127.0.0.1', database='HR_Database')\n",
    "\n",
    "mycursor = cnx.cursor()\n",
    "try:\n",
    "\n",
    "    mycursor.execute(\"\"\"ALTER TABLE `working_profile` \n",
    "                     ADD CONSTRAINT `fk_working_personal` FOREIGN KEY (`EmpID`) REFERENCES `personal_profile` (`EmpID`) ON DELETE RESTRICT ON UPDATE CASCADE, \n",
    "                     ADD CONSTRAINT `fk_working_recruitment` FOREIGN KEY (`EmpID`) REFERENCES `recruitment` (`EmpID`) ON DELETE RESTRICT ON UPDATE CASCADE, \n",
    "                     ADD CONSTRAINT `fk_working_performance_employee` FOREIGN KEY (`EmpID`) REFERENCES `performance_employee` (`EmpID`) ON DELETE RESTRICT ON UPDATE CASCADE, \n",
    "                     ADD CONSTRAINT `fk_working_engagement` FOREIGN KEY (`EmpID`) REFERENCES `engagement` (`EmpID`) ON DELETE RESTRICT ON UPDATE CASCADE, \n",
    "                     ADD CONSTRAINT `fk_working_absenteeism` FOREIGN KEY (`EmpID`) REFERENCES `absenteeism` (`EmpID`) ON DELETE RESTRICT ON UPDATE CASCADE, \n",
    "                     ADD CONSTRAINT `fk_working_attrition` FOREIGN KEY (`EmpID`) REFERENCES `attrition` (`EmpID`) ON DELETE RESTRICT ON UPDATE CASCADE; \n",
    "                     ALTER TABLE `manager` ADD CONSTRAINT `fk_manager_working` FOREIGN KEY (`ManagerID`) REFERENCES `working_profile` (`ManagerID`) ON DELETE RESTRICT ON UPDATE CASCADE; \n",
    "                     ALTER TABLE `marital_status` ADD CONSTRAINT `fk_marital_personal` FOREIGN KEY (`MaritalStatusID`) REFERENCES `personal_profile`(`MaritalStatusID`) ON DELETE RESTRICT ON UPDATE CASCADE; \n",
    "                     ALTER TABLE `gender` ADD CONSTRAINT `fk_gender_personal` FOREIGN KEY (`GenderID`) REFERENCES `personal_profile` (`GenderID`) ON DELETE RESTRICT ON UPDATE CASCADE;\"\"\")\n",
    "    print(mycursor)\n",
    "    \n",
    "except mysql.connector.Error as err:\n",
    "    print(err)\n",
    "    print(\"Error Code:\", err.errno)\n",
    "    print(\"SQLSTATE\", err.sqlstate)\n",
    "    print(\"Message\", err.msg)"
   ]
  }
 ],
 "metadata": {
  "kernelspec": {
   "display_name": "adalabenv",
   "language": "python",
   "name": "python3"
  },
  "language_info": {
   "codemirror_mode": {
    "name": "ipython",
    "version": 3
   },
   "file_extension": ".py",
   "mimetype": "text/x-python",
   "name": "python",
   "nbconvert_exporter": "python",
   "pygments_lexer": "ipython3",
   "version": "3.11.2"
  },
  "orig_nbformat": 4
 },
 "nbformat": 4,
 "nbformat_minor": 2
}
